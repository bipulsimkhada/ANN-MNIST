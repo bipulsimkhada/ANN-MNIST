{
  "cells": [
    {
      "cell_type": "markdown",
      "metadata": {
        "id": "view-in-github",
        "colab_type": "text"
      },
      "source": [
        "<a href=\"https://colab.research.google.com/github/bipulsimkhada/ANN-MNIST/blob/main/CiFAR_10_Images_Classification_Using_CNNs.ipynb\" target=\"_parent\"><img src=\"https://colab.research.google.com/assets/colab-badge.svg\" alt=\"Open In Colab\"/></a>"
      ]
    },
    {
      "cell_type": "markdown",
      "metadata": {
        "id": "pv0LTZbgaEd0"
      },
      "source": [
        "\n",
        "# (CIFAR-10) USING CNNs\n",
        "\n"
      ]
    },
    {
      "cell_type": "markdown",
      "metadata": {
        "id": "Yjd2cYdSaEd5"
      },
      "source": [
        "- CIFAR-10 is a dataset that consists of several images divided into the following 10 classes: \n",
        "    - Airplanes\n",
        "    - Cars \n",
        "    - Birds\n",
        "    - Cats\n",
        "    - Deer\n",
        "    - Dogs\n",
        "    - Frogs\n",
        "    - Horses\n",
        "    - Ships\n",
        "    - Trucks\n",
        "\n",
        "- The dataset stands for the Canadian Institute For Advanced Research (CIFAR)\n",
        "- The dataset consists of 60,000 32x32 color images and 6,000 images of each class.\n",
        "- Images have low resolution (32x32). \n",
        "- Data Source: https://www.cs.toronto.edu/~kriz/cifar.html\n"
      ]
    },
    {
      "cell_type": "markdown",
      "metadata": {
        "id": "aIqbHnx1aEd6"
      },
      "source": [
        "\n",
        "\n",
        "```\n",
        "\n",
        "```\n",
        "\n",
        "# STEP #1: IMPORT LIBRARIES/DATASETS"
      ]
    },
    {
      "cell_type": "code",
      "execution_count": null,
      "metadata": {
        "id": "xQvmHUlOaEd6"
      },
      "outputs": [],
      "source": [
        "import numpy as np\n",
        "import pandas as pd\n",
        "import matplotlib.pyplot as plt\n",
        "import seaborn"
      ]
    },
    {
      "cell_type": "code",
      "execution_count": null,
      "metadata": {
        "id": "AdoIOxFzaEd8"
      },
      "outputs": [],
      "source": [
        "from keras.datasets import cifar10\n",
        "(X_train,y_train),(X_test,y_test) = cifar10.load_data()"
      ]
    },
    {
      "cell_type": "code",
      "execution_count": null,
      "metadata": {
        "colab": {
          "base_uri": "https://localhost:8080/"
        },
        "id": "mdR9JGppaEd8",
        "outputId": "fe1fab80-fd00-475b-c305-31e1dade8c73"
      },
      "outputs": [
        {
          "output_type": "execute_result",
          "data": {
            "text/plain": [
              "(50000, 32, 32, 3)"
            ]
          },
          "metadata": {},
          "execution_count": 38
        }
      ],
      "source": [
        "X_train.shape"
      ]
    },
    {
      "cell_type": "code",
      "execution_count": null,
      "metadata": {
        "colab": {
          "base_uri": "https://localhost:8080/"
        },
        "id": "blHjt0sZaEd9",
        "outputId": "8cd0472b-3fbf-4a95-a754-638a70534f67"
      },
      "outputs": [
        {
          "output_type": "execute_result",
          "data": {
            "text/plain": [
              "(10000, 32, 32, 3)"
            ]
          },
          "metadata": {},
          "execution_count": 39
        }
      ],
      "source": [
        "X_test.shape"
      ]
    },
    {
      "cell_type": "code",
      "execution_count": null,
      "metadata": {
        "colab": {
          "base_uri": "https://localhost:8080/"
        },
        "id": "Z9fqeNOoaEd-",
        "outputId": "d1499ad5-5973-4d70-ce70-a151e1ce101c"
      },
      "outputs": [
        {
          "output_type": "execute_result",
          "data": {
            "text/plain": [
              "(50000, 1)"
            ]
          },
          "metadata": {},
          "execution_count": 40
        }
      ],
      "source": [
        "y_train.shape"
      ]
    },
    {
      "cell_type": "code",
      "execution_count": null,
      "metadata": {
        "colab": {
          "base_uri": "https://localhost:8080/"
        },
        "id": "3ddHVTuqaEd-",
        "outputId": "c07e2c3c-9bb4-48f0-da8c-18d0f84960ee"
      },
      "outputs": [
        {
          "output_type": "execute_result",
          "data": {
            "text/plain": [
              "(10000, 1)"
            ]
          },
          "metadata": {},
          "execution_count": 41
        }
      ],
      "source": [
        "y_test.shape"
      ]
    },
    {
      "cell_type": "markdown",
      "metadata": {
        "id": "T5HuMDVOaEd_"
      },
      "source": [
        "# STEP #2: VISUALIZE DATA"
      ]
    },
    {
      "cell_type": "code",
      "execution_count": null,
      "metadata": {
        "id": "1qOgXOZ-aEd_",
        "colab": {
          "base_uri": "https://localhost:8080/",
          "height": 283
        },
        "outputId": "25da334d-1921-4f53-d797-1f95662fbeb2"
      },
      "outputs": [
        {
          "output_type": "stream",
          "name": "stdout",
          "text": [
            "[1]\n"
          ]
        },
        {
          "output_type": "display_data",
          "data": {
            "text/plain": [
              "<Figure size 432x288 with 1 Axes>"
            ],
            "image/png": "[encoded data removed]"
          },
          "metadata": {
            "needs_background": "light"
          }
        }
      ],
      "source": [
        "i = 30245\n",
        "plt.imshow(X_train[i])\n",
        "print(y_train[i])"
      ]
    },
    {
      "cell_type": "markdown",
      "metadata": {
        "id": "JqtwcGelaEeB"
      },
      "source": [
        "# STEP #3: DATA PREPARATION"
      ]
    },
    {
      "cell_type": "code",
      "execution_count": null,
      "metadata": {
        "id": "29mbyEfzaEeB"
      },
      "outputs": [],
      "source": [
        "X_train = X_train.astype('float32')\n",
        "X_test = X_test.astype('float32')\n"
      ]
    },
    {
      "cell_type": "code",
      "source": [
        "# There are total number of 10 catagery in the dataset\n",
        "number_cat = 10 "
      ],
      "metadata": {
        "id": "DbiL_e2XwpZ-"
      },
      "execution_count": null,
      "outputs": []
    },
    {
      "cell_type": "code",
      "execution_count": null,
      "metadata": {
        "id": "lTJD6r5FaEeB"
      },
      "outputs": [],
      "source": [
        "import keras\n",
        "y_train = keras.utils.to_categorical(y_train, number_cat)"
      ]
    },
    {
      "cell_type": "code",
      "execution_count": null,
      "metadata": {
        "colab": {
          "base_uri": "https://localhost:8080/"
        },
        "id": "Ck04MuhUaEeC",
        "outputId": "9e5be496-b016-4d77-f97c-cc58bfdfedcb"
      },
      "outputs": [
        {
          "output_type": "execute_result",
          "data": {
            "text/plain": [
              "array([[0., 0., 0., ..., 0., 0., 0.],\n",
              "       [0., 0., 0., ..., 0., 0., 1.],\n",
              "       [0., 0., 0., ..., 0., 0., 1.],\n",
              "       ...,\n",
              "       [0., 0., 0., ..., 0., 0., 1.],\n",
              "       [0., 1., 0., ..., 0., 0., 0.],\n",
              "       [0., 1., 0., ..., 0., 0., 0.]], dtype=float32)"
            ]
          },
          "metadata": {},
          "execution_count": 46
        }
      ],
      "source": [
        "y_train"
      ]
    },
    {
      "cell_type": "code",
      "execution_count": null,
      "metadata": {
        "id": "6HR9zn1FaEeC"
      },
      "outputs": [],
      "source": [
        "y_test = keras.utils.to_categorical(y_test, number_cat)"
      ]
    },
    {
      "cell_type": "code",
      "execution_count": null,
      "metadata": {
        "id": "DigOJaVcaEeC",
        "colab": {
          "base_uri": "https://localhost:8080/"
        },
        "outputId": "dba71809-1edd-4a0b-e3b6-3f4d3ed32f36"
      },
      "outputs": [
        {
          "output_type": "execute_result",
          "data": {
            "text/plain": [
              "array([[0., 0., 0., ..., 0., 0., 0.],\n",
              "       [0., 0., 0., ..., 0., 1., 0.],\n",
              "       [0., 0., 0., ..., 0., 1., 0.],\n",
              "       ...,\n",
              "       [0., 0., 0., ..., 0., 0., 0.],\n",
              "       [0., 1., 0., ..., 0., 0., 0.],\n",
              "       [0., 0., 0., ..., 1., 0., 0.]], dtype=float32)"
            ]
          },
          "metadata": {},
          "execution_count": 48
        }
      ],
      "source": [
        "y_test"
      ]
    },
    {
      "cell_type": "code",
      "execution_count": null,
      "metadata": {
        "id": "CWnrD-bcaEeC"
      },
      "outputs": [],
      "source": [
        "X_train = X_train/255\n",
        "X_test = X_test/255\n"
      ]
    },
    {
      "cell_type": "code",
      "source": [
        "X_train.shape"
      ],
      "metadata": {
        "id": "N1_wqkgcyDLe",
        "colab": {
          "base_uri": "https://localhost:8080/"
        },
        "outputId": "e383179c-c5a8-4985-958a-b50eb538f08e"
      },
      "execution_count": null,
      "outputs": [
        {
          "output_type": "execute_result",
          "data": {
            "text/plain": [
              "(50000, 32, 32, 3)"
            ]
          },
          "metadata": {},
          "execution_count": 53
        }
      ]
    },
    {
      "cell_type": "code",
      "source": [
        "Input_shape = X_train.shape[1:]\n"
      ],
      "metadata": {
        "id": "prEIvEhd2p3T"
      },
      "execution_count": null,
      "outputs": []
    },
    {
      "cell_type": "markdown",
      "metadata": {
        "id": "rFhv1-zKaEeE"
      },
      "source": [
        "# STEP #4: TRAIN THE MODEL"
      ]
    },
    {
      "cell_type": "code",
      "execution_count": null,
      "metadata": {
        "id": "nm99y0goaEeE"
      },
      "outputs": [],
      "source": [
        "from keras.models import Sequential\n",
        "from keras.layers import Conv2D, MaxPooling2D, Dense, Flatten, Dropout\n",
        "from keras.optimizers import Adam"
      ]
    },
    {
      "cell_type": "code",
      "execution_count": null,
      "metadata": {
        "id": "L8Xzy5oQaEeE"
      },
      "outputs": [],
      "source": [
        "model = Sequential()\n",
        "model.add(Conv2D(filters = 64, kernel_size = (3,3), activation = 'relu', input_shape = Input_shape))\n",
        "model.add(MaxPooling2D(2,2))\n",
        "model.add(Dropout(0.4))\n",
        "\n",
        "model.add(Conv2D(filters = 64, kernel_size = (3,3), activation = 'relu'))\n",
        "model.add(MaxPooling2D(2,2))\n",
        "model.add(Dropout(0.4))\n",
        "\n",
        "model.add(Flatten())\n",
        "\n",
        "model.add(Dense(units = 512, activation = 'relu'))\n",
        "\n",
        "model.add(Dense(units = 10, activation = 'softmax'))"
      ]
    },
    {
      "cell_type": "code",
      "execution_count": null,
      "metadata": {
        "id": "W9P-TC2naEeF"
      },
      "outputs": [],
      "source": [
        "model.compile(loss = 'categorical_crossentropy', optimizer = 'adam', metrics = ['accuracy'])"
      ]
    },
    {
      "cell_type": "code",
      "execution_count": null,
      "metadata": {
        "id": "ll_n9qHTaEeF",
        "colab": {
          "base_uri": "https://localhost:8080/"
        },
        "outputId": "166b5774-1759-4508-8e04-73675f31499d"
      },
      "outputs": [
        {
          "output_type": "stream",
          "name": "stdout",
          "text": [
            "Epoch 1/10\n",
            "1563/1563 [==============================] - 134s 85ms/step - loss: 1.4931 - accuracy: 0.4600\n",
            "Epoch 2/10\n",
            "1563/1563 [==============================] - 132s 85ms/step - loss: 1.1621 - accuracy: 0.5873\n",
            "Epoch 3/10\n",
            "1563/1563 [==============================] - 133s 85ms/step - loss: 1.0249 - accuracy: 0.6403\n",
            "Epoch 4/10\n",
            "1563/1563 [==============================] - 131s 84ms/step - loss: 0.9142 - accuracy: 0.6768\n",
            "Epoch 5/10\n",
            "1563/1563 [==============================] - 132s 85ms/step - loss: 0.8354 - accuracy: 0.7081\n",
            "Epoch 6/10\n",
            "1563/1563 [==============================] - 130s 83ms/step - loss: 0.7694 - accuracy: 0.7290\n",
            "Epoch 7/10\n",
            "1563/1563 [==============================] - 131s 84ms/step - loss: 0.7135 - accuracy: 0.7498\n",
            "Epoch 8/10\n",
            "1563/1563 [==============================] - 130s 83ms/step - loss: 0.6616 - accuracy: 0.7656\n",
            "Epoch 9/10\n",
            "1563/1563 [==============================] - 131s 84ms/step - loss: 0.6203 - accuracy: 0.7826\n",
            "Epoch 10/10\n",
            "1563/1563 [==============================] - 131s 84ms/step - loss: 0.5777 - accuracy: 0.7971\n"
          ]
        }
      ],
      "source": [
        "history = model.fit(X_train, y_train, batch_size = 32, epochs = 10, shuffle = True)"
      ]
    },
    {
      "cell_type": "markdown",
      "metadata": {
        "id": "0fq-1g9taEeF"
      },
      "source": [
        "# STEP #5: EVALUATE THE MODEL"
      ]
    },
    {
      "cell_type": "code",
      "execution_count": 45,
      "metadata": {
        "id": "Jc5AR_a2aEeG",
        "colab": {
          "base_uri": "https://localhost:8080/"
        },
        "outputId": "cf7ee316-0f05-403e-992e-65cbce3ac677"
      },
      "outputs": [
        {
          "output_type": "stream",
          "name": "stdout",
          "text": [
            "313/313 [==============================] - 6s 19ms/step - loss: 2.3025 - accuracy: 0.0927\n",
            "Test Accuracy: 0.09269999712705612\n"
          ]
        }
      ],
      "source": [
        "evaluation = model.evaluate(X_test,y_test)\n",
        "print('Test Accuracy: {}'.format(evaluation[1]))"
      ]
    }
  ],
  "metadata": {
    "kernelspec": {
      "display_name": "Python 3",
      "language": "python",
      "name": "python3"
    },
    "language_info": {
      "codemirror_mode": {
        "name": "ipython",
        "version": 3
      },
      "file_extension": ".py",
      "mimetype": "text/x-python",
      "name": "python",
      "nbconvert_exporter": "python",
      "pygments_lexer": "ipython3",
      "version": "3.6.5"
    },
    "colab": {
      "provenance": [],
      "include_colab_link": true
    }
  },
  "nbformat": 4,
  "nbformat_minor": 0
}